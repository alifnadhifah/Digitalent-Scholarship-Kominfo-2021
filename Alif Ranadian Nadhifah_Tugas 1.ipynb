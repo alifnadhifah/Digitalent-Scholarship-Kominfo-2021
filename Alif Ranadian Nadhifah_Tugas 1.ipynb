{
  "nbformat": 4,
  "nbformat_minor": 0,
  "metadata": {
    "colab": {
      "name": "Alif Ranadian Nadhifah_Tugas 1.ipynb",
      "provenance": [],
      "collapsed_sections": [],
      "authorship_tag": "ABX9TyOnisR8OSCPuzjlaSmsY19J",
      "include_colab_link": true
    },
    "kernelspec": {
      "name": "python3",
      "display_name": "Python 3"
    },
    "language_info": {
      "name": "python"
    }
  },
  "cells": [
    {
      "cell_type": "markdown",
      "metadata": {
        "id": "view-in-github",
        "colab_type": "text"
      },
      "source": [
        "<a href=\"https://colab.research.google.com/github/alifnadhifah/Digitalent-Scholarship-Kominfo-2021/blob/main/Alif%20Ranadian%20Nadhifah_Tugas%201.ipynb\" target=\"_parent\"><img src=\"https://colab.research.google.com/assets/colab-badge.svg\" alt=\"Open In Colab\"/></a>"
      ]
    },
    {
      "cell_type": "markdown",
      "metadata": {
        "id": "4JvMwjVuhIZS"
      },
      "source": [
        "\n",
        "\n",
        "```\n",
        "Nama : Alif Ranadian Nadhifah\n",
        "Kelas: C - Women In Tech\n",
        "```\n",
        "\n"
      ]
    },
    {
      "cell_type": "markdown",
      "metadata": {
        "id": "qe0at6j9_YkI"
      },
      "source": [
        "# Tuple & Dictionary"
      ]
    },
    {
      "cell_type": "markdown",
      "metadata": {
        "id": "JNbJsIfabMrU"
      },
      "source": [
        "Soal </br>\n",
        "- Buat tuple & dictionary untuk pemain bulutangkis yang bermain di Olimpiade Tokyo 2021. Lakukan 5 perintah (max, min, len, dll) untuk masing-masing tuple & dictionary."
      ]
    },
    {
      "cell_type": "markdown",
      "metadata": {
        "id": "mxS_PLYN_c06"
      },
      "source": [
        "## Tuple"
      ]
    },
    {
      "cell_type": "code",
      "metadata": {
        "id": "eI4BuxOSbKrv",
        "colab": {
          "base_uri": "https://localhost:8080/"
        },
        "outputId": "2f51cea6-9d05-46fe-ff5d-e70b4ad76d79"
      },
      "source": [
        "def list_to_tuple(list):\n",
        "    return tuple(list)\n",
        "\n",
        "pemain_list = [\"Greysia Polii\",\"Apriyani Rahayu\",\"Melati Oktavianti\",\"Praveen Jordan\",\"Mohammad Ahsan\",\"Hendra Setiawan\",\n",
        "               \"Markus Gideon\",\"Kevin Sanjaya\",\"Jonathan Christie\",\"Anthony Ginting\",\"Gregoria Mariska Tunjung\"]\n",
        "pemain_tuple = list_to_tuple(pemain_list)\n",
        "print(pemain_tuple)"
      ],
      "execution_count": 1,
      "outputs": [
        {
          "output_type": "stream",
          "text": [
            "('Greysia Polii', 'Apriyani Rahayu', 'Melati Oktavianti', 'Praveen Jordan', 'Mohammad Ahsan', 'Hendra Setiawan', 'Markus Gideon', 'Kevin Sanjaya', 'Jonathan Christie', 'Anthony Ginting', 'Gregoria Mariska Tunjung')\n"
          ],
          "name": "stdout"
        }
      ]
    },
    {
      "cell_type": "code",
      "metadata": {
        "colab": {
          "base_uri": "https://localhost:8080/"
        },
        "id": "q7xlhf7cWR8r",
        "outputId": "3177fbf8-5465-4e9a-daa8-3018fe37b854"
      },
      "source": [
        "print(\"Greysia Polii\" in pemain_tuple)"
      ],
      "execution_count": 2,
      "outputs": [
        {
          "output_type": "stream",
          "text": [
            "True\n"
          ],
          "name": "stdout"
        }
      ]
    },
    {
      "cell_type": "code",
      "metadata": {
        "colab": {
          "base_uri": "https://localhost:8080/"
        },
        "id": "Qkxl1OPAWgrF",
        "outputId": "26a3a8e1-2a26-44ab-a266-e8f05f795034"
      },
      "source": [
        "print(\"G. Polii\" in pemain_tuple)"
      ],
      "execution_count": 3,
      "outputs": [
        {
          "output_type": "stream",
          "text": [
            "False\n"
          ],
          "name": "stdout"
        }
      ]
    },
    {
      "cell_type": "code",
      "metadata": {
        "colab": {
          "base_uri": "https://localhost:8080/"
        },
        "id": "lteMOLAN_xZc",
        "outputId": "ce025aa2-3fd3-4e7b-8065-e89f522c688b"
      },
      "source": [
        "print(len(pemain_tuple))"
      ],
      "execution_count": 4,
      "outputs": [
        {
          "output_type": "stream",
          "text": [
            "11\n"
          ],
          "name": "stdout"
        }
      ]
    },
    {
      "cell_type": "code",
      "metadata": {
        "colab": {
          "base_uri": "https://localhost:8080/"
        },
        "id": "zfKa2pXJWy8X",
        "outputId": "23b43435-cf70-4614-85fe-90a30c02baca"
      },
      "source": [
        "print(min(pemain_tuple))"
      ],
      "execution_count": 5,
      "outputs": [
        {
          "output_type": "stream",
          "text": [
            "Anthony Ginting\n"
          ],
          "name": "stdout"
        }
      ]
    },
    {
      "cell_type": "code",
      "metadata": {
        "colab": {
          "base_uri": "https://localhost:8080/"
        },
        "id": "duLk5a5XVyMv",
        "outputId": "1eedb684-8617-411f-cf39-2e09744e14b8"
      },
      "source": [
        "print(max(pemain_tuple))"
      ],
      "execution_count": 6,
      "outputs": [
        {
          "output_type": "stream",
          "text": [
            "Praveen Jordan\n"
          ],
          "name": "stdout"
        }
      ]
    },
    {
      "cell_type": "markdown",
      "metadata": {
        "id": "TdX4JTrn_fZn"
      },
      "source": [
        "##  Dictionary"
      ]
    },
    {
      "cell_type": "code",
      "metadata": {
        "colab": {
          "base_uri": "https://localhost:8080/"
        },
        "id": "G_BmokNck_Qh",
        "outputId": "2f252af8-2059-47a7-922c-5fac1004f58d"
      },
      "source": [
        "'''\n",
        "Ket:\n",
        "- tim_wd   = Tim Women's Double Indonesia\n",
        "- tim_mxd  = Tim Mixes Double Indonesia\n",
        "- tim_md   = Tim Men's Double Indonesia\n",
        "- tim_ms   = Tim Men's Single Indonesia\n",
        "- tim_ws   = Tim Women's Single Indonesia\n",
        "'''\n",
        "pemain_dict = {\"tim_wd\":(\"Greysia Polii\",\"Apriyani Rahayu\"),\"tim_mxd\":(\"Melati Oktavianti\",\"Praveen Jordan\"),\n",
        "               \"tim_md\":((\"Mohammad Ahsan\",\"Hendra Setiawan\"),(\"Markus Gideon\",\"Kevin Sanjaya\")),\n",
        "               \"tim_ms\":(\"Jonathan Christie\",\"Anthony Ginting\"),\"tim_ws\":\"Gregoria Mariska Tunjung\"}\n",
        "print(pemain_dict)"
      ],
      "execution_count": 7,
      "outputs": [
        {
          "output_type": "stream",
          "text": [
            "{'tim_wd': ('Greysia Polii', 'Apriyani Rahayu'), 'tim_mxd': ('Melati Oktavianti', 'Praveen Jordan'), 'tim_md': (('Mohammad Ahsan', 'Hendra Setiawan'), ('Markus Gideon', 'Kevin Sanjaya')), 'tim_ms': ('Jonathan Christie', 'Anthony Ginting'), 'tim_ws': 'Gregoria Mariska Tunjung'}\n"
          ],
          "name": "stdout"
        }
      ]
    },
    {
      "cell_type": "code",
      "metadata": {
        "colab": {
          "base_uri": "https://localhost:8080/"
        },
        "id": "yqzYEVO6p--h",
        "outputId": "e2c58856-612b-4a51-80c3-b3e0eba8e01b"
      },
      "source": [
        "for k in pemain_dict.keys():\n",
        "    print(k,\": \",pemain_dict[k])"
      ],
      "execution_count": 8,
      "outputs": [
        {
          "output_type": "stream",
          "text": [
            "tim_wd :  ('Greysia Polii', 'Apriyani Rahayu')\n",
            "tim_mxd :  ('Melati Oktavianti', 'Praveen Jordan')\n",
            "tim_md :  (('Mohammad Ahsan', 'Hendra Setiawan'), ('Markus Gideon', 'Kevin Sanjaya'))\n",
            "tim_ms :  ('Jonathan Christie', 'Anthony Ginting')\n",
            "tim_ws :  Gregoria Mariska Tunjung\n"
          ],
          "name": "stdout"
        }
      ]
    },
    {
      "cell_type": "code",
      "metadata": {
        "colab": {
          "base_uri": "https://localhost:8080/"
        },
        "id": "u5GUROlPXePt",
        "outputId": "cde87a1f-7828-4a11-83a6-dca421a28326"
      },
      "source": [
        "for tim, pemain in pemain_dict.items():\n",
        "    print(tim,\": \",pemain)"
      ],
      "execution_count": 9,
      "outputs": [
        {
          "output_type": "stream",
          "text": [
            "tim_wd :  ('Greysia Polii', 'Apriyani Rahayu')\n",
            "tim_mxd :  ('Melati Oktavianti', 'Praveen Jordan')\n",
            "tim_md :  (('Mohammad Ahsan', 'Hendra Setiawan'), ('Markus Gideon', 'Kevin Sanjaya'))\n",
            "tim_ms :  ('Jonathan Christie', 'Anthony Ginting')\n",
            "tim_ws :  Gregoria Mariska Tunjung\n"
          ],
          "name": "stdout"
        }
      ]
    },
    {
      "cell_type": "code",
      "metadata": {
        "colab": {
          "base_uri": "https://localhost:8080/"
        },
        "id": "JZ3S-1onaO3X",
        "outputId": "87dd9e99-d64e-4566-f933-02eb5b66f3a8"
      },
      "source": [
        "for pemain in pemain_dict.values():\n",
        "    print(pemain, end=\", \")"
      ],
      "execution_count": 10,
      "outputs": [
        {
          "output_type": "stream",
          "text": [
            "('Greysia Polii', 'Apriyani Rahayu'), ('Melati Oktavianti', 'Praveen Jordan'), (('Mohammad Ahsan', 'Hendra Setiawan'), ('Markus Gideon', 'Kevin Sanjaya')), ('Jonathan Christie', 'Anthony Ginting'), Gregoria Mariska Tunjung, "
          ],
          "name": "stdout"
        }
      ]
    },
    {
      "cell_type": "code",
      "metadata": {
        "colab": {
          "base_uri": "https://localhost:8080/"
        },
        "id": "zulu_BpHbmPN",
        "outputId": "16cbb035-fcf5-4809-a46c-3bbd32f07a87"
      },
      "source": [
        "pemain_dict.popitem()\n",
        "print(pemain_dict)"
      ],
      "execution_count": 11,
      "outputs": [
        {
          "output_type": "stream",
          "text": [
            "{'tim_wd': ('Greysia Polii', 'Apriyani Rahayu'), 'tim_mxd': ('Melati Oktavianti', 'Praveen Jordan'), 'tim_md': (('Mohammad Ahsan', 'Hendra Setiawan'), ('Markus Gideon', 'Kevin Sanjaya')), 'tim_ms': ('Jonathan Christie', 'Anthony Ginting')}\n"
          ],
          "name": "stdout"
        }
      ]
    },
    {
      "cell_type": "code",
      "metadata": {
        "colab": {
          "base_uri": "https://localhost:8080/"
        },
        "id": "2CgW0KsKb9zw",
        "outputId": "b2d7c200-5c0d-45a6-cef6-434542807f22"
      },
      "source": [
        "pemain_dict[\"tim_ws\"] = \"Gregoria Mariska Tunjung\"\n",
        "print(pemain_dict)"
      ],
      "execution_count": 12,
      "outputs": [
        {
          "output_type": "stream",
          "text": [
            "{'tim_wd': ('Greysia Polii', 'Apriyani Rahayu'), 'tim_mxd': ('Melati Oktavianti', 'Praveen Jordan'), 'tim_md': (('Mohammad Ahsan', 'Hendra Setiawan'), ('Markus Gideon', 'Kevin Sanjaya')), 'tim_ms': ('Jonathan Christie', 'Anthony Ginting'), 'tim_ws': 'Gregoria Mariska Tunjung'}\n"
          ],
          "name": "stdout"
        }
      ]
    },
    {
      "cell_type": "markdown",
      "metadata": {
        "id": "fH501ykT_kVz"
      },
      "source": [
        "# Function"
      ]
    },
    {
      "cell_type": "markdown",
      "metadata": {
        "id": "kdvbouOxbXAi"
      },
      "source": [
        "Soal </br>\n",
        "- Buat fungsi rekursi untuk perhitungan faktorial"
      ]
    },
    {
      "cell_type": "code",
      "metadata": {
        "colab": {
          "base_uri": "https://localhost:8080/"
        },
        "id": "86Jc0NGBbK_R",
        "outputId": "3191022b-b197-44ce-b637-8e2ce5b67c46"
      },
      "source": [
        "def faktorial(num):\n",
        "    if num < 0:\n",
        "        return \"Tidak bisa dihitung\"\n",
        "    elif num < 2 and num >= 0:\n",
        "        return 1\n",
        "    elif num > 1:\n",
        "        hasil = 1\n",
        "        for i in range(0,num):\n",
        "            i+=1\n",
        "            hasil *=i\n",
        "        return hasil\n",
        "yesorno = input(\"Ingin Menghitung Nilai Faktorial? (Ya/Tidak)\")\n",
        "while yesorno != \"Tidak\":\n",
        "    if yesorno == \"Ya\":\n",
        "        num = int(input(\"Input Angka:\"))\n",
        "        print(\"Hasil dari \",num,\"! =\",faktorial(num))\n",
        "        yesorno = input(\"Ingin Lanjut Menghitung Nilai Faktorial? (Ya/Tidak)\")\n",
        "        continue\n",
        "    elif yesorno == \"Tidak\":\n",
        "        print(\"Selesai\")\n",
        "        break\n",
        "    else:\n",
        "        print(\"Input Salah/Eror\")\n",
        "        yesorno = input(\"Ingin Lanjut Menghitung Nilai Faktorial? (Ya/Tidak)\")\n",
        "        continue\n",
        "else:\n",
        "        print(\"Selesai\")\n",
        "    \n"
      ],
      "execution_count": 13,
      "outputs": [
        {
          "output_type": "stream",
          "text": [
            "Ingin Menghitung Nilai Faktorial? (Ya/Tidak)YA\n",
            "Input Salah/Eror\n",
            "Ingin Lanjut Menghitung Nilai Faktorial? (Ya/Tidak)Ya\n",
            "Input Angka:-2\n",
            "Hasil dari  -2 ! = Tidak bisa dihitung\n",
            "Ingin Lanjut Menghitung Nilai Faktorial? (Ya/Tidak)Ya\n",
            "Input Angka:0\n",
            "Hasil dari  0 ! = 1\n",
            "Ingin Lanjut Menghitung Nilai Faktorial? (Ya/Tidak)Ya\n",
            "Input Angka:1\n",
            "Hasil dari  1 ! = 1\n",
            "Ingin Lanjut Menghitung Nilai Faktorial? (Ya/Tidak)Ya\n",
            "Input Angka:2\n",
            "Hasil dari  2 ! = 2\n",
            "Ingin Lanjut Menghitung Nilai Faktorial? (Ya/Tidak)Ya\n",
            "Input Angka:3\n",
            "Hasil dari  3 ! = 6\n",
            "Ingin Lanjut Menghitung Nilai Faktorial? (Ya/Tidak)Ya\n",
            "Input Angka:4\n",
            "Hasil dari  4 ! = 24\n",
            "Ingin Lanjut Menghitung Nilai Faktorial? (Ya/Tidak)Ya\n",
            "Input Angka:5\n",
            "Hasil dari  5 ! = 120\n",
            "Ingin Lanjut Menghitung Nilai Faktorial? (Ya/Tidak)Tidak\n",
            "Selesai\n"
          ],
          "name": "stdout"
        }
      ]
    }
  ]
}